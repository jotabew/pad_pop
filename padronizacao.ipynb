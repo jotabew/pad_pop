{
  "nbformat": 4,
  "nbformat_minor": 0,
  "metadata": {
    "colab": {
      "name": "padronizacao.ipynb",
      "provenance": [],
      "collapsed_sections": [],
      "toc_visible": true,
      "mount_file_id": "1NhXEW50Os52ExgrEF2_b6IR5oiRU3Knl",
      "authorship_tag": "ABX9TyPh/bnOps/8YqP053VNGFy7",
      "include_colab_link": true
    },
    "kernelspec": {
      "name": "python3",
      "display_name": "Python 3"
    }
  },
  "cells": [
    {
      "cell_type": "markdown",
      "metadata": {
        "id": "view-in-github",
        "colab_type": "text"
      },
      "source": [
        "<a href=\"https://colab.research.google.com/github/jotabew/pad_pop/blob/main/padronizacao.ipynb\" target=\"_parent\"><img src=\"https://colab.research.google.com/assets/colab-badge.svg\" alt=\"Open In Colab\"/></a>"
      ]
    },
    {
      "cell_type": "markdown",
      "metadata": {
        "id": "X9mnMboQp37D"
      },
      "source": [
        "# Bibliotecas"
      ]
    },
    {
      "cell_type": "code",
      "metadata": {
        "id": "fWPqE6JmQ8Ui"
      },
      "source": [
        "import pandas as pd\n",
        "import numpy as np"
      ],
      "execution_count": null,
      "outputs": []
    },
    {
      "cell_type": "markdown",
      "metadata": {
        "id": "y9Lu_TRqps3v"
      },
      "source": [
        "# Carregando bancos de dados"
      ]
    },
    {
      "cell_type": "code",
      "metadata": {
        "id": "ZyZV_HrujlwR"
      },
      "source": [
        "# Carregando os bancos de dados\n",
        "\n",
        "## OBITOS\n",
        "obtmasculino = pd.read_csv('/content/drive/MyDrive/a_colab/obt_mas.csv', sep=';')\n",
        "obtfeminino = pd.read_csv('/content/drive/MyDrive/a_colab/obt_fem.csv', sep=';')\n",
        "obttotal = pd.read_csv('/content/drive/MyDrive/a_colab/obt_total.csv', sep=';')\n",
        "\n",
        "## POP\n",
        "\n",
        "pop_mas = pd.read_csv('/content/drive/MyDrive/a_colab/pop_mas.csv', sep=';')\n",
        "pop_fem = pd.read_csv('/content/drive/MyDrive/a_colab/pop_fem.csv', sep=';')\n",
        "pop_total = pd.read_csv('/content/drive/MyDrive/a_colab/pop_total.csv', sep=';')\n",
        "\n",
        "## del pop_XXX['NOMEDACOLUNA']\n"
      ],
      "execution_count": null,
      "outputs": []
    },
    {
      "cell_type": "markdown",
      "metadata": {
        "id": "lo0kRcenq7vC"
      },
      "source": [
        "# Função\n"
      ]
    },
    {
      "cell_type": "code",
      "metadata": {
        "id": "Ap9Ad3HRzXrO"
      },
      "source": [
        "# POP PADRÃO\n",
        "# Brasil 2010\n",
        "dados= [13796159,14969375,17166761,16990870,34349603,29633093,24842718,18416621,11349929,6305085,2935585]\n",
        "data={\n",
        "    'y1996':dados,'y1997':dados,'y1998':dados,'y1999':dados,'y2000':dados,'y2001':dados,\n",
        "    'y2002':dados,'y2003':dados,'y2004':dados,'y2005':dados,'y2006':dados,'y2007':dados,\n",
        "    'y2008':dados,'y2009':dados,'y2010':dados,'y2011':dados,'y2012':dados,'y2013':dados,\n",
        "    'y2014':dados,'y2015':dados,'y2016':dados,'y2017':dados,'y2018':dados\n",
        "    }\n",
        "populacaopadrao = pd.DataFrame(data, columns=['y1996','y1997','y1998','y1999','y2000',\n",
        "                                              'y2001','y2002','y2003','y2004','y2005',\n",
        "                                              'y2006','y2007','y2008','y2009','y2010',\n",
        "                                              'y2011','y2012','y2013','y2014','y2015',\n",
        "                                              'y2016','y2017','y2018'])"
      ],
      "execution_count": null,
      "outputs": []
    },
    {
      "cell_type": "code",
      "metadata": {
        "colab": {
          "base_uri": "https://localhost:8080/"
        },
        "id": "T-OLFESYZAog",
        "outputId": "83276c51-45fb-4c04-d3bb-4162aefca011"
      },
      "source": [
        "sum(dados)"
      ],
      "execution_count": null,
      "outputs": [
        {
          "output_type": "execute_result",
          "data": {
            "text/plain": [
              "190755799"
            ]
          },
          "metadata": {
            "tags": []
          },
          "execution_count": 9
        }
      ]
    },
    {
      "cell_type": "code",
      "metadata": {
        "id": "Xus09Hz7aFbA"
      },
      "source": [
        "# INDEX\n",
        "\n",
        "index = ['0 a 4 anos', '5 a 9 anos','10 a 14 anos', '15 a 19 anos', '20 a 29 anos',\n",
        "         '30 a 39 anos', '40 a 49 anos', '50 a 59 anos', '60 a 69 anos', '70 a 79 anos', '80 anos e mais']"
      ],
      "execution_count": null,
      "outputs": []
    },
    {
      "cell_type": "code",
      "metadata": {
        "id": "4XScgyjPP6Hj"
      },
      "source": [
        "def padronizar(obt, pop, pop_pad):\n",
        "  pop_pad = pop_pad\n",
        "  pop = pop\n",
        "  obt = obt\n",
        "\n",
        "\n",
        "  #OBITO\n",
        "  obt_total = obt.sum()\n",
        "\n",
        "  #POP\n",
        "  pop_ano_total = pop.sum()\n",
        "    \n",
        "  #POP_PAD\n",
        "  pop_pad_total = pop_pad.sum()\n",
        "  \n",
        " \n",
        "  \n",
        "  coeficiente_parcial = ( obt/pop ) * 10000\n",
        "  coeficiente_total = ( obt_total/pop_ano_total ) * 10000\n",
        "  \n",
        "  obt_esperados = ( coeficiente_parcial * pop_pad ) / 10000\n",
        "  \n",
        "  obt_esperados_total = obt_esperados.sum()\n",
        "  \n",
        "  coef_pad = ( obt_esperados_total / pop_pad_total ) * 100000\n",
        "  \n",
        "  return coef_pad\n",
        "  "
      ],
      "execution_count": null,
      "outputs": []
    },
    {
      "cell_type": "code",
      "metadata": {
        "id": "vK2ZG4E0P6YL"
      },
      "source": [
        "TX_masculino = padronizar(obt= obtmasculino, pop= pop_mas,pop_pad=populacaopadrao)\n",
        "TX_feminino = padronizar(obt= obtfeminino, pop= pop_fem,pop_pad=populacaopadrao)\n",
        "TX_total = padronizar(obt= obttotal, pop= pop_total,pop_pad=populacaopadrao)\n"
      ],
      "execution_count": null,
      "outputs": []
    },
    {
      "cell_type": "code",
      "metadata": {
        "colab": {
          "base_uri": "https://localhost:8080/"
        },
        "id": "Gp1DMptXxUJK",
        "outputId": "40c31fda-f7a5-4745-8be1-86eb0ffa0d3d"
      },
      "source": [
        "TX_feminino"
      ],
      "execution_count": null,
      "outputs": [
        {
          "output_type": "execute_result",
          "data": {
            "text/plain": [
              "y1996    4.555790\n",
              "y1997    4.825327\n",
              "y1998    4.602311\n",
              "y1999    5.339298\n",
              "y2000    4.943060\n",
              "y2001    6.696787\n",
              "y2002    5.122383\n",
              "y2003    6.272847\n",
              "y2004    5.899625\n",
              "y2005    5.788724\n",
              "y2006    6.829453\n",
              "y2007    6.259728\n",
              "y2008    6.324789\n",
              "y2009    6.439366\n",
              "y2010    5.143000\n",
              "y2011    6.668082\n",
              "y2012    7.117375\n",
              "y2013    6.966197\n",
              "y2014    7.163408\n",
              "y2015    7.832909\n",
              "y2016    7.968223\n",
              "y2017    7.981969\n",
              "y2018    7.570212\n",
              "dtype: float64"
            ]
          },
          "metadata": {
            "tags": []
          },
          "execution_count": 10
        }
      ]
    }
  ]
}